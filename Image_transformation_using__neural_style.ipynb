{
  "nbformat": 4,
  "nbformat_minor": 0,
  "metadata": {
    "colab": {
      "provenance": [],
      "mount_file_id": "1C_uoRb_1NMQqFDhPP5lta36i-djePsmr",
      "authorship_tag": "ABX9TyP6NKbgjZpMYfDL4iv2deBy",
      "include_colab_link": true
    },
    "kernelspec": {
      "name": "python3",
      "display_name": "Python 3"
    },
    "language_info": {
      "name": "python"
    }
  },
  "cells": [
    {
      "cell_type": "markdown",
      "metadata": {
        "id": "view-in-github",
        "colab_type": "text"
      },
      "source": [
        "<a href=\"https://colab.research.google.com/github/sftSalman/neural_style_transformation/blob/main/Image_transformation_using__neural_style.ipynb\" target=\"_parent\"><img src=\"https://colab.research.google.com/assets/colab-badge.svg\" alt=\"Open In Colab\"/></a>"
      ]
    },
    {
      "cell_type": "markdown",
      "source": [
        "#This note book will be usesd for image transformation using neural style transformation  . Transfer learning will be used here  which was previsely trained by vgg19 network using Imagenet dataset \n",
        "```\n",
        "\n"
      ],
      "metadata": {
        "id": "xK8sTyBSWN-f"
      }
    },
    {
      "cell_type": "code",
      "source": [],
      "metadata": {
        "id": "iTh7D_L9YeET"
      },
      "execution_count": null,
      "outputs": []
    },
    {
      "cell_type": "code",
      "execution_count": 1,
      "metadata": {
        "cellView": "form",
        "id": "jJsmPbRgVfR3"
      },
      "outputs": [],
      "source": [
        "#@title nst_utils\n",
        "\n",
        "import os\n",
        "import sys\n",
        "import scipy.io\n",
        "import scipy.misc\n",
        "import matplotlib.pyplot as plt\n",
        "from matplotlib.pyplot import imshow\n",
        "from PIL import Image\n",
        "\n",
        "import numpy as np\n",
        "import tensorflow as tf\n",
        "\n",
        "class CONFIG:\n",
        "    IMAGE_WIDTH = 400\n",
        "    IMAGE_HEIGHT = 300\n",
        "    COLOR_CHANNELS = 3\n",
        "    NOISE_RATIO = 0.6\n",
        "    MEANS = np.array([123.68, 116.779, 103.939]).reshape((1,1,1,3)) \n",
        "    VGG_MODEL = 'pretrained-model/imagenet-vgg-verydeep-19.mat' # Pick the VGG 19-layer model by from the paper \"Very Deep Convolutional Networks for Large-Scale Image Recognition\".\n",
        "    STYLE_IMAGE = 'images/stone_style.jpg' # Style image to use.\n",
        "    CONTENT_IMAGE = 'images/content300.jpg' # Content image to use.\n",
        "    OUTPUT_DIR = 'output/'\n",
        "    \n",
        "def load_vgg_model(path):\n",
        "    \"\"\"\n",
        "    Returns a model for the purpose of 'painting' the picture.\n",
        "    Takes only the convolution layer weights and wrap using the TensorFlow\n",
        "    Conv2d, Relu and AveragePooling layer. VGG actually uses maxpool but\n",
        "    the paper indicates that using AveragePooling yields better results.\n",
        "    The last few fully connected layers are not used.\n",
        "    Here is the detailed configuration of the VGG model:\n",
        "        0 is conv1_1 (3, 3, 3, 64)\n",
        "        1 is relu\n",
        "        2 is conv1_2 (3, 3, 64, 64)\n",
        "        3 is relu    \n",
        "        4 is maxpool\n",
        "        5 is conv2_1 (3, 3, 64, 128)\n",
        "        6 is relu\n",
        "        7 is conv2_2 (3, 3, 128, 128)\n",
        "        8 is relu\n",
        "        9 is maxpool\n",
        "        10 is conv3_1 (3, 3, 128, 256)\n",
        "        11 is relu\n",
        "        12 is conv3_2 (3, 3, 256, 256)\n",
        "        13 is relu\n",
        "        14 is conv3_3 (3, 3, 256, 256)\n",
        "        15 is relu\n",
        "        16 is conv3_4 (3, 3, 256, 256)\n",
        "        17 is relu\n",
        "        18 is maxpool\n",
        "        19 is conv4_1 (3, 3, 256, 512)\n",
        "        20 is relu\n",
        "        21 is conv4_2 (3, 3, 512, 512)\n",
        "        22 is relu\n",
        "        23 is conv4_3 (3, 3, 512, 512)\n",
        "        24 is relu\n",
        "        25 is conv4_4 (3, 3, 512, 512)\n",
        "        26 is relu\n",
        "        27 is maxpool\n",
        "        28 is conv5_1 (3, 3, 512, 512)\n",
        "        29 is relu\n",
        "        30 is conv5_2 (3, 3, 512, 512)\n",
        "        31 is relu\n",
        "        32 is conv5_3 (3, 3, 512, 512)\n",
        "        33 is relu\n",
        "        34 is conv5_4 (3, 3, 512, 512)\n",
        "        35 is relu\n",
        "        36 is maxpool\n",
        "        37 is fullyconnected (7, 7, 512, 4096)\n",
        "        38 is relu\n",
        "        39 is fullyconnected (1, 1, 4096, 4096)\n",
        "        40 is relu\n",
        "        41 is fullyconnected (1, 1, 4096, 1000)\n",
        "        42 is softmax\n",
        "    \"\"\"\n",
        "    \n",
        "    vgg = scipy.io.loadmat(path)\n",
        "\n",
        "    vgg_layers = vgg['layers']\n",
        "    \n",
        "    def _weights(layer, expected_layer_name):\n",
        "        \"\"\"\n",
        "        Return the weights and bias from the VGG model for a given layer.\n",
        "        \"\"\"\n",
        "        wb = vgg_layers[0][layer][0][0][2]\n",
        "        W = wb[0][0]\n",
        "        b = wb[0][1]\n",
        "        layer_name = vgg_layers[0][layer][0][0][0][0]\n",
        "        assert layer_name == expected_layer_name\n",
        "        return W, b\n",
        "\n",
        "        return W, b\n",
        "\n",
        "    def _relu(conv2d_layer):\n",
        "        \"\"\"\n",
        "        Return the RELU function wrapped over a TensorFlow layer. Expects a\n",
        "        Conv2d layer input.\n",
        "        \"\"\"\n",
        "        return tf.nn.relu(conv2d_layer)\n",
        "\n",
        "    def _conv2d(prev_layer, layer, layer_name):\n",
        "        \"\"\"\n",
        "        Return the Conv2D layer using the weights, biases from the VGG\n",
        "        model at 'layer'.\n",
        "        \"\"\"\n",
        "        W, b = _weights(layer, layer_name)\n",
        "        W = tf.constant(W)\n",
        "        b = tf.constant(np.reshape(b, (b.size)))\n",
        "        return tf.nn.conv2d(prev_layer, filter=W, strides=[1, 1, 1, 1], padding='SAME') + b\n",
        "\n",
        "    def _conv2d_relu(prev_layer, layer, layer_name):\n",
        "        \"\"\"\n",
        "        Return the Conv2D + RELU layer using the weights, biases from the VGG\n",
        "        model at 'layer'.\n",
        "        \"\"\"\n",
        "        return _relu(_conv2d(prev_layer, layer, layer_name))\n",
        "\n",
        "    def _avgpool(prev_layer):\n",
        "        \"\"\"\n",
        "        Return the AveragePooling layer.\n",
        "        \"\"\"\n",
        "        return tf.nn.avg_pool(prev_layer, ksize=[1, 2, 2, 1], strides=[1, 2, 2, 1], padding='SAME')\n",
        "\n",
        "    # Constructs the graph model.\n",
        "    graph = {}\n",
        "    graph['input']   = tf.Variable(np.zeros((1, CONFIG.IMAGE_HEIGHT, CONFIG.IMAGE_WIDTH, CONFIG.COLOR_CHANNELS)), dtype = 'float32')\n",
        "    graph['conv1_1']  = _conv2d_relu(graph['input'], 0, 'conv1_1')\n",
        "    graph['conv1_2']  = _conv2d_relu(graph['conv1_1'], 2, 'conv1_2')\n",
        "    graph['avgpool1'] = _avgpool(graph['conv1_2'])\n",
        "    graph['conv2_1']  = _conv2d_relu(graph['avgpool1'], 5, 'conv2_1')\n",
        "    graph['conv2_2']  = _conv2d_relu(graph['conv2_1'], 7, 'conv2_2')\n",
        "    graph['avgpool2'] = _avgpool(graph['conv2_2'])\n",
        "    graph['conv3_1']  = _conv2d_relu(graph['avgpool2'], 10, 'conv3_1')\n",
        "    graph['conv3_2']  = _conv2d_relu(graph['conv3_1'], 12, 'conv3_2')\n",
        "    graph['conv3_3']  = _conv2d_relu(graph['conv3_2'], 14, 'conv3_3')\n",
        "    graph['conv3_4']  = _conv2d_relu(graph['conv3_3'], 16, 'conv3_4')\n",
        "    graph['avgpool3'] = _avgpool(graph['conv3_4'])\n",
        "    graph['conv4_1']  = _conv2d_relu(graph['avgpool3'], 19, 'conv4_1')\n",
        "    graph['conv4_2']  = _conv2d_relu(graph['conv4_1'], 21, 'conv4_2')\n",
        "    graph['conv4_3']  = _conv2d_relu(graph['conv4_2'], 23, 'conv4_3')\n",
        "    graph['conv4_4']  = _conv2d_relu(graph['conv4_3'], 25, 'conv4_4')\n",
        "    graph['avgpool4'] = _avgpool(graph['conv4_4'])\n",
        "    graph['conv5_1']  = _conv2d_relu(graph['avgpool4'], 28, 'conv5_1')\n",
        "    graph['conv5_2']  = _conv2d_relu(graph['conv5_1'], 30, 'conv5_2')\n",
        "    graph['conv5_3']  = _conv2d_relu(graph['conv5_2'], 32, 'conv5_3')\n",
        "    graph['conv5_4']  = _conv2d_relu(graph['conv5_3'], 34, 'conv5_4')\n",
        "    graph['avgpool5'] = _avgpool(graph['conv5_4'])\n",
        "    \n",
        "    return graph\n",
        "\n",
        "def generate_noise_image(content_image, noise_ratio = CONFIG.NOISE_RATIO):\n",
        "    \"\"\"\n",
        "    Generates a noisy image by adding random noise to the content_image\n",
        "    \"\"\"\n",
        "    \n",
        "    # Generate a random noise_image\n",
        "    noise_image = np.random.uniform(-20, 20, (1, CONFIG.IMAGE_HEIGHT, CONFIG.IMAGE_WIDTH, CONFIG.COLOR_CHANNELS)).astype('float32')\n",
        "    \n",
        "    # Set the input_image to be a weighted average of the content_image and a noise_image\n",
        "    input_image = noise_image * noise_ratio + content_image * (1 - noise_ratio)\n",
        "    \n",
        "    return input_image\n",
        "\n",
        "\n",
        "def reshape_and_normalize_image(image):\n",
        "    \"\"\"\n",
        "    Reshape and normalize the input image (content or style)\n",
        "    \"\"\"\n",
        "    \n",
        "    # Reshape image to mach expected input of VGG16\n",
        "    image = np.reshape(image, ((1,) + image.shape))\n",
        "    \n",
        "    # Substract the mean to match the expected input of VGG16\n",
        "    image = image - CONFIG.MEANS\n",
        "    \n",
        "    return image\n",
        "\n",
        "\n",
        "def save_image(path, image):\n",
        "    \n",
        "    # Un-normalize the image so that it looks good\n",
        "    image = image + CONFIG.MEANS\n",
        "    \n",
        "    # Clip and Save the image\n",
        "    image = np.clip(image[0], 0, 255).astype('uint8')\n",
        "    scipy.misc.imsave(path, image)"
      ]
    },
    {
      "cell_type": "markdown",
      "source": [
        "Required Packages\n"
      ],
      "metadata": {
        "id": "eJY5LcNXYt72"
      }
    },
    {
      "cell_type": "code",
      "source": [
        "# import packages\n",
        "import os \n",
        "import sys \n",
        "import scipy.io \n",
        "import scipy.misc\n",
        "import matplotlib.pyplot as plt\n",
        "from PIL import Image \n",
        "import numpy as np \n",
        "import tensorflow as tf\n",
        "from PIL import Image\n",
        "import numpy as np\n",
        "import tensorflow as tf\n",
        "from tensorflow.python.framework.ops import EagerTensor\n",
        "import pprint\n",
        "%matplotlib inline"
      ],
      "metadata": {
        "id": "1pYGBebWYzqw"
      },
      "execution_count": 2,
      "outputs": []
    },
    {
      "cell_type": "markdown",
      "source": [
        "Downloading the pretrained vgg model \n"
      ],
      "metadata": {
        "id": "ViNa4o6yYpAn"
      }
    },
    {
      "cell_type": "code",
      "source": [
        "tf.random.set_seed(100)\n",
        "img_size = 420\n",
        "vgg_model = tf.keras.applications.VGG19(include_top=False,\n",
        "                                        weights='imagenet',\n",
        "                                        input_shape=(img_size,img_size,3))\n",
        "\n",
        "vgg_model.trainble = False\n"
      ],
      "metadata": {
        "id": "zDm0hxrGZpDQ"
      },
      "execution_count": 4,
      "outputs": []
    },
    {
      "cell_type": "code",
      "source": [
        "print(vgg_model)"
      ],
      "metadata": {
        "colab": {
          "base_uri": "https://localhost:8080/"
        },
        "id": "laK5YKcDagQq",
        "outputId": "fb9ceef8-9865-4d2e-ee99-8775ce11adbd"
      },
      "execution_count": 5,
      "outputs": [
        {
          "output_type": "stream",
          "name": "stdout",
          "text": [
            "<keras.engine.functional.Functional object at 0x7f1458da49d0>\n"
          ]
        }
      ]
    },
    {
      "cell_type": "code",
      "source": [
        "vgg_model.summary()"
      ],
      "metadata": {
        "colab": {
          "base_uri": "https://localhost:8080/"
        },
        "id": "3qbbU_9PalFU",
        "outputId": "6e20dd08-05c1-4ec9-c8dc-07b84ba0b649"
      },
      "execution_count": 7,
      "outputs": [
        {
          "output_type": "stream",
          "name": "stdout",
          "text": [
            "Model: \"vgg19\"\n",
            "_________________________________________________________________\n",
            " Layer (type)                Output Shape              Param #   \n",
            "=================================================================\n",
            " input_2 (InputLayer)        [(None, 420, 420, 3)]     0         \n",
            "                                                                 \n",
            " block1_conv1 (Conv2D)       (None, 420, 420, 64)      1792      \n",
            "                                                                 \n",
            " block1_conv2 (Conv2D)       (None, 420, 420, 64)      36928     \n",
            "                                                                 \n",
            " block1_pool (MaxPooling2D)  (None, 210, 210, 64)      0         \n",
            "                                                                 \n",
            " block2_conv1 (Conv2D)       (None, 210, 210, 128)     73856     \n",
            "                                                                 \n",
            " block2_conv2 (Conv2D)       (None, 210, 210, 128)     147584    \n",
            "                                                                 \n",
            " block2_pool (MaxPooling2D)  (None, 105, 105, 128)     0         \n",
            "                                                                 \n",
            " block3_conv1 (Conv2D)       (None, 105, 105, 256)     295168    \n",
            "                                                                 \n",
            " block3_conv2 (Conv2D)       (None, 105, 105, 256)     590080    \n",
            "                                                                 \n",
            " block3_conv3 (Conv2D)       (None, 105, 105, 256)     590080    \n",
            "                                                                 \n",
            " block3_conv4 (Conv2D)       (None, 105, 105, 256)     590080    \n",
            "                                                                 \n",
            " block3_pool (MaxPooling2D)  (None, 52, 52, 256)       0         \n",
            "                                                                 \n",
            " block4_conv1 (Conv2D)       (None, 52, 52, 512)       1180160   \n",
            "                                                                 \n",
            " block4_conv2 (Conv2D)       (None, 52, 52, 512)       2359808   \n",
            "                                                                 \n",
            " block4_conv3 (Conv2D)       (None, 52, 52, 512)       2359808   \n",
            "                                                                 \n",
            " block4_conv4 (Conv2D)       (None, 52, 52, 512)       2359808   \n",
            "                                                                 \n",
            " block4_pool (MaxPooling2D)  (None, 26, 26, 512)       0         \n",
            "                                                                 \n",
            " block5_conv1 (Conv2D)       (None, 26, 26, 512)       2359808   \n",
            "                                                                 \n",
            " block5_conv2 (Conv2D)       (None, 26, 26, 512)       2359808   \n",
            "                                                                 \n",
            " block5_conv3 (Conv2D)       (None, 26, 26, 512)       2359808   \n",
            "                                                                 \n",
            " block5_conv4 (Conv2D)       (None, 26, 26, 512)       2359808   \n",
            "                                                                 \n",
            " block5_pool (MaxPooling2D)  (None, 13, 13, 512)       0         \n",
            "                                                                 \n",
            "=================================================================\n",
            "Total params: 20,024,384\n",
            "Trainable params: 20,024,384\n",
            "Non-trainable params: 0\n",
            "_________________________________________________________________\n"
          ]
        }
      ]
    },
    {
      "cell_type": "markdown",
      "source": [],
      "metadata": {
        "id": "-Uzoav9QavHG"
      }
    }
  ]
}